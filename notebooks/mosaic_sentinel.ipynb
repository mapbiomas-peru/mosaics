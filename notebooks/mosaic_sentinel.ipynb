{
 "cells": [
  {
   "cell_type": "code",
   "execution_count": null,
   "metadata": {
    "collapsed": true
   },
   "outputs": [],
   "source": [
    "import ee\n",
    "import folium\n",
    "from pprint import pprint"
   ]
  },
  {
   "cell_type": "code",
   "execution_count": null,
   "metadata": {
    "collapsed": true
   },
   "outputs": [],
   "source": [
    "import sys, os\n",
    "sys.dont_write_bytecode = True\n",
    "sys.path.append(os.path.abspath('../'))"
   ]
  },
  {
   "cell_type": "code",
   "execution_count": null,
   "metadata": {
    "collapsed": true
   },
   "outputs": [],
   "source": [
    "from modules.Collection import getCollection\n",
    "from modules.Collection import setProperties\n",
    "from modules.BandNames import getBandNames\n",
    "from modules.CloudAndShadowMask import *\n",
    "from modules.Indexes import *\n",
    "from modules.SMA_NDFI import *\n",
    "from modules import Map"
   ]
  },
  {
   "cell_type": "code",
   "execution_count": null,
   "metadata": {
    "collapsed": true
   },
   "outputs": [],
   "source": [
    "# Initialize\n",
    "ee.Initialize()\n"
   ]
  },
  {
   "cell_type": "code",
   "execution_count": null,
   "metadata": {
    "collapsed": true
   },
   "outputs": [],
   "source": [
    "# select a grid cell\n",
    "gridName = 'SF-23-Y-D'\n",
    "\n",
    "assetGrid = 'projects/mapbiomas-workspace/AUXILIAR/cartas'\n",
    "\n",
    "grid = ee.FeatureCollection(assetGrid)\\\n",
    "    .filterMetadata('grid_name', 'equals', gridName)"
   ]
  },
  {
   "cell_type": "code",
   "execution_count": null,
   "metadata": {},
   "outputs": [],
   "source": [
    "Map.addLayer(grid, visParams={\"color\":\"ff0000\"}, name='Grid')"
   ]
  },
  {
   "cell_type": "code",
   "execution_count": null,
   "metadata": {
    "collapsed": true
   },
   "outputs": [],
   "source": [
    "# Sentinel 2 SR collection parameters\n",
    "collectionId = 'COPERNICUS/S2_SR'\n",
    "\n",
    "dateStart = '2020-04-01'\n",
    "dateEnd = '2020-10-30'\n",
    "\n",
    "cloudCover = 70.0"
   ]
  },
  {
   "cell_type": "code",
   "execution_count": null,
   "metadata": {
    "collapsed": true
   },
   "outputs": [],
   "source": [
    "# returns a collection containing the specified parameters\n",
    "collection = getCollection(collectionId,\n",
    "                           dateStart=dateStart,\n",
    "                           dateEnd=dateEnd,\n",
    "                           cloudCover=cloudCover,\n",
    "                           geometry=grid.geometry())"
   ]
  },
  {
   "cell_type": "code",
   "execution_count": null,
   "metadata": {
    "collapsed": true
   },
   "outputs": [],
   "source": [
    "def getImagesNames(collection):\n",
    "    \"\"\"Helper function to get a list of image names\n",
    "    \n",
    "    Parameters\n",
    "        collection (ee.ImageCollection): collection from where to get the names\n",
    "    \n",
    "    Returns:\n",
    "        list: list of image names\n",
    "    \"\"\"\n",
    "        \n",
    "    return collection.reduceColumns(ee.Reducer.toList(), ['system:index']) \\\n",
    "        .get('list') \\\n",
    "        .getInfo()"
   ]
  },
  {
   "cell_type": "code",
   "execution_count": null,
   "metadata": {},
   "outputs": [],
   "source": [
    "imageNames = getImagesNames(collection)\n",
    "\n",
    "pprint(imageNames)"
   ]
  },
  {
   "cell_type": "code",
   "execution_count": null,
   "metadata": {
    "collapsed": true
   },
   "outputs": [],
   "source": [
    "# returns  a pattern of band names\n",
    "bands = getBandNames('sentinel2')\n",
    "print(bands)"
   ]
  },
  {
   "cell_type": "code",
   "execution_count": null,
   "metadata": {
    "collapsed": true
   },
   "outputs": [],
   "source": [
    "# rename bands\n",
    "collection = collection.select(bands['bandNames'], bands['newNames'])"
   ]
  },
  {
   "cell_type": "code",
   "execution_count": null,
   "metadata": {
    "collapsed": true
   },
   "outputs": [],
   "source": [
    "# cloud and shadow masks parameters\n",
    "cloudFlag = True\n",
    "cloudScore = True\n",
    "cloudShadowFlag = True\n",
    "cloudShadowTdom = True\n",
    "zScoreThresh = -1\n",
    "shadowSumThresh = 4000\n",
    "dilatePixels = 2\n",
    "cloudHeights = ee.List.sequence(200, 10000, 500)\n",
    "cloudBand = 'cloudFlagMask'"
   ]
  },
  {
   "cell_type": "code",
   "execution_count": null,
   "metadata": {
    "collapsed": true
   },
   "outputs": [],
   "source": [
    "# Get cloud and shadow masks\n",
    "collectionWithMasks = getMasks(collection,\n",
    "                               cloudFlag=cloudFlag,\n",
    "                               cloudScore=cloudScore,\n",
    "                               cloudShadowFlag=cloudShadowFlag,\n",
    "                               cloudShadowTdom=cloudShadowTdom,\n",
    "                               zScoreThresh=zScoreThresh,\n",
    "                               shadowSumThresh=shadowSumThresh,\n",
    "                               dilatePixels=dilatePixels,\n",
    "                               cloudHeights=cloudHeights,\n",
    "                               cloudBand=cloudBand)"
   ]
  },
  {
   "cell_type": "code",
   "execution_count": null,
   "metadata": {
    "collapsed": true
   },
   "outputs": [],
   "source": [
    "# get collection without clouds\n",
    "collectionWithoutClouds = collectionWithMasks.map(\n",
    "    lambda image: image.mask(\n",
    "        image.select([\n",
    "                'cloudFlagMask',\n",
    "                'cloudScoreMask',\n",
    "                'cloudShadowFlagMask',\n",
    "                'cloudShadowTdomMask'\n",
    "            ]).reduce(ee.Reducer.anyNonZero()).eq(0)\n",
    "    )\n",
    ")"
   ]
  },
  {
   "cell_type": "code",
   "execution_count": null,
   "metadata": {
    "collapsed": true
   },
   "outputs": [],
   "source": [
    "# returns a collection with the calculated indexes\n",
    "indexesCollection = collectionWithoutClouds.map(getNDVI) \\\n",
    "                                           .map(getEVI)"
   ]
  },
  {
   "cell_type": "code",
   "execution_count": null,
   "metadata": {
    "collapsed": true
   },
   "outputs": [],
   "source": [
    "# returns a collection with the sma and ndfi calculated\n",
    "smaCollection = collectionWithoutClouds.map(\n",
    "    lambda image: getSMAFractions(image, ENDMEMBERS_S2))\n",
    "\n",
    "ndfiCollection = smaCollection.map(getNDFI)"
   ]
  },
  {
   "cell_type": "code",
   "execution_count": null,
   "metadata": {
    "collapsed": true
   },
   "outputs": [],
   "source": [
    "# create a folium widget map\n",
    "coordinates = geometry.centroid().coordinates().getInfo()\n",
    "\n",
    "m = folium.Map(location=[coordinates[1], coordinates[0]], zoom_start=8, tiles='Cartodb dark_matter')"
   ]
  },
  {
   "cell_type": "code",
   "execution_count": null,
   "metadata": {
    "collapsed": true
   },
   "outputs": [],
   "source": [
    "# rgb layer\n",
    "visRGB = {\"bands\":\"swir1,nir,red\", \"gain\": \"0.08,0.06,0.2\", \"gamma\":\"0.65\"}\n",
    "\n",
    "Map.addLayer(m,\n",
    "         indexesCollection,\n",
    "         visParams=visRGB,\n",
    "         name='RGB')"
   ]
  },
  {
   "cell_type": "code",
   "execution_count": null,
   "metadata": {},
   "outputs": [],
   "source": []
  }
 ],
 "metadata": {
  "kernelspec": {
   "name": "python3",
   "display_name": "Python 3.8.5 64-bit",
   "metadata": {
    "interpreter": {
     "hash": "31f2aee4e71d21fbe5cf8b01ff0e069b9275f58929596ceb00d14d90e3e16cd6"
    }
   }
  },
  "language_info": {
   "codemirror_mode": {
    "name": "ipython",
    "version": 2
   },
   "file_extension": ".py",
   "mimetype": "text/x-python",
   "name": "python",
   "nbconvert_exporter": "python",
   "pygments_lexer": "ipython2",
   "version": "3.8.5-final"
  }
 },
 "nbformat": 4,
 "nbformat_minor": 2
}